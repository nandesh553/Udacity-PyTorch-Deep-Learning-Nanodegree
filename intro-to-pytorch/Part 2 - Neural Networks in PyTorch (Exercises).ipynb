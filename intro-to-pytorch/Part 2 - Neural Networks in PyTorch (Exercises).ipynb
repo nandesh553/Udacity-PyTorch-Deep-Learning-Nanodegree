{
 "cells": [
  {
   "cell_type": "markdown",
   "metadata": {},
   "source": [
    "# Neural networks with PyTorch\n",
    "\n",
    "Deep learning networks tend to be massive with dozens or hundreds of layers, that's where the term \"deep\" comes from. You can build one of these deep networks using only weight matrices as we did in the previous notebook, but in general it's very cumbersome and difficult to implement. PyTorch has a nice module `nn` that provides a nice way to efficiently build large neural networks."
   ]
  },
  {
   "cell_type": "code",
   "execution_count": 1,
   "metadata": {
    "tags": []
   },
   "outputs": [],
   "source": [
    "# Import necessary packages\n",
    "\n",
    "%matplotlib inline\n",
    "# %config InlineBackend.figure_format = 'retina'\n",
    "\n",
    "import numpy as np\n",
    "import torch\n",
    "\n",
    "import helper\n",
    "\n",
    "import matplotlib.pyplot as plt"
   ]
  },
  {
   "cell_type": "markdown",
   "metadata": {},
   "source": [
    "\n",
    "Now we're going to build a larger network that can solve a (formerly) difficult problem, identifying text in an image. Here we'll use the MNIST dataset which consists of greyscale handwritten digits. Each image is 28x28 pixels, you can see a sample below\n",
    "\n",
    "<img src='assets/mnist.png'>\n",
    "\n",
    "Our goal is to build a neural network that can take one of these images and predict the digit in the image.\n",
    "\n",
    "First up, we need to get our dataset. This is provided through the `torchvision` package. The code below will download the MNIST dataset, then create training and test datasets for us. Don't worry too much about the details here, you'll learn more about this later."
   ]
  },
  {
   "cell_type": "code",
   "execution_count": 2,
   "metadata": {},
   "outputs": [],
   "source": [
    "# The MNIST datasets are hosted on yann.lecun.com that has moved under CloudFlare protection\n",
    "# Run this script to enable the datasets download\n",
    "# Reference: https://github.com/pytorch/vision/issues/1938\n",
    "\n",
    "from six.moves import urllib\n",
    "opener = urllib.request.build_opener()\n",
    "opener.addheaders = [('User-agent', 'Mozilla/5.0')]\n",
    "urllib.request.install_opener(opener)"
   ]
  },
  {
   "cell_type": "code",
   "execution_count": 3,
   "metadata": {
    "tags": []
   },
   "outputs": [],
   "source": [
    "### Run this cell\n",
    "\n",
    "from torchvision import datasets, transforms\n",
    "\n",
    "# Define a transform to normalize the data\n",
    "transform = transforms.Compose([transforms.ToTensor(),\n",
    "                              transforms.Normalize((0.5,), (0.5,)),\n",
    "                              ])\n",
    "\n",
    "# Download and load the training data\n",
    "trainset = datasets.MNIST('~/.pytorch/MNIST_data/', download=True, train=True, transform=transform)\n",
    "trainloader = torch.utils.data.DataLoader(trainset, batch_size=64, shuffle=True)"
   ]
  },
  {
   "cell_type": "markdown",
   "metadata": {},
   "source": [
    "We have the training data loaded into `trainloader` and we make that an iterator with `iter(trainloader)`. Later, we'll use this to loop through the dataset for training, like\n",
    "\n",
    "```python\n",
    "for image, label in trainloader:\n",
    "    ## do things with images and labels\n",
    "```\n",
    "\n",
    "You'll notice I created the `trainloader` with a batch size of 64, and `shuffle=True`. The batch size is the number of images we get in one iteration from the data loader and pass through our network, often called a *batch*. And `shuffle=True` tells it to shuffle the dataset every time we start going through the data loader again. But here I'm just grabbing the first batch so we can check out the data. We can see below that `images` is just a tensor with size `(64, 1, 28, 28)`. So, 64 images per batch, 1 color channel, and 28x28 images."
   ]
  },
  {
   "cell_type": "code",
   "execution_count": 4,
   "metadata": {
    "tags": []
   },
   "outputs": [
    {
     "name": "stdout",
     "output_type": "stream",
     "text": [
      "<class 'torch.Tensor'>\n",
      "torch.Size([64, 1, 28, 28])\n",
      "torch.Size([64])\n"
     ]
    }
   ],
   "source": [
    "dataiter = iter(trainloader)\n",
    "images, labels = dataiter.next()\n",
    "print(type(images))\n",
    "print(images.shape)\n",
    "print(labels.shape)"
   ]
  },
  {
   "cell_type": "markdown",
   "metadata": {},
   "source": [
    "This is what one of the images looks like. "
   ]
  },
  {
   "cell_type": "code",
   "execution_count": 5,
   "metadata": {
    "tags": []
   },
   "outputs": [
    {
     "data": {
      "image/png": "[encoded data removed]",
      "text/plain": [
       "<Figure size 432x288 with 1 Axes>"
      ]
     },
     "metadata": {
      "needs_background": "light"
     },
     "output_type": "display_data"
    }
   ],
   "source": [
    "plt.imshow(images[1].numpy().squeeze(), cmap='Greys_r');"
   ]
  },
  {
   "cell_type": "markdown",
   "metadata": {},
   "source": [
    "First, let's try to build a simple network for this dataset using weight matrices and matrix multiplications. Then, we'll see how to do it using PyTorch's `nn` module which provides a much more convenient and powerful method for defining network architectures.\n",
    "\n",
    "The networks you've seen so far are called *fully-connected* or *dense* networks. Each unit in one layer is connected to each unit in the next layer. In fully-connected networks, the input to each layer must be a one-dimensional vector (which can be stacked into a 2D tensor as a batch of multiple examples). However, our images are 28x28 2D tensors, so we need to convert them into 1D vectors. Thinking about sizes, we need to convert the batch of images with shape `(64, 1, 28, 28)` to a have a shape of `(64, 784)`, 784 is 28 times 28. This is typically called *flattening*, we flattened the 2D images into 1D vectors.\n",
    "\n",
    "Previously you built a network with one output unit. Here we need 10 output units, one for each digit. We want our network to predict the digit shown in an image, so what we'll do is calculate probabilities that the image is of any one digit or class. This ends up being a discrete probability distribution over the classes (digits) that tells us the most likely class for the image. That means we need 10 output units for the 10 classes (digits). We'll see how to convert the network output into a probability distribution next.\n",
    "\n",
    "> **Exercise:** Flatten the batch of images `images`. Then build a multi-layer network with 784 input units, 256 hidden units, and 10 output units using random tensors for the weights and biases. For now, use a sigmoid activation for the hidden layer. Leave the output layer without an activation, we'll add one that gives us a probability distribution next."
   ]
  },
  {
   "cell_type": "code",
   "execution_count": null,
   "metadata": {
    "collapsed": true,
    "jupyter": {
     "outputs_hidden": true
    }
   },
   "outputs": [],
   "source": [
    "## Your solution\n",
    "class NN():\n",
    "    def __init__(self, input_nodes, hidden_nodes, output_nodes, lr):\n",
    "        self.input_nodes = input_nodes\n",
    "        self.hidden_nodes = hidden_nodes\n",
    "        self.output_nodes = output_nodes\n",
    "        self.lr = lr\n",
    "        \n",
    "        self.activation = lambda x: 1 / (1 + np.exp(-x))\n",
    "        \n",
    "        self.w_i_h = np.random.normal(0.0, self.input_nodes**-0.5, \n",
    "                    (self.input_nodes, self.hidden_nodes))\n",
    "        self.w_h_o = np.random.normal(0.0, self.input_nodes**-0.5, \n",
    "                    (self.hidden_nodes, self.output_nodes))\n",
    "\n",
    "    def train(self, features, labels):\n",
    "        delta_weights_i_h = no.zeros(self.w_i_h.shape)\n",
    "        delta_weights_h_o = no.zeros(self.w_h_o.shape)\n",
    "        \n",
    "        for X, y in zip(features, labels):\n",
    "            final_outputs, hidden_outputs = self.forward_propagation(X)\n",
    "            delta_weights_i_h, delta_weights_h_o = self.backward_propagation(final_outputs, hidden_outputs, X, y, delta_weights_i_h, delta_weights_h_o)\n",
    "        \n",
    "        self.update_weights(delta_weights_i_h, delta_weights_h_o)\n",
    "        \n",
    "        \n",
    "    def forward_propagation(self, X):\n",
    "        \n",
    "        hidden_outputs = self.activation(np.dot(X, self.w_i_h))\n",
    "        final_outputs = np.dot(hidden_outputs, self.w_h_o)\n",
    "        \n",
    "        return final_outputs, hidden_outputs\n",
    "        \n",
    "        \n",
    "    def backward_propagation(self, final_outputs, hidden_outputs, X, y,\n",
    "                             delta_weights_i_h, delta_weights_h_o):\n",
    "        \n",
    "        error = y - final_outputs\n",
    "        \n",
    "        output_error_term = error * 1\n",
    "        \n",
    "        hidden_error = np.dot(self.w_h_o, output_error_term)\n",
    "        \n",
    "        hidden_erro_term = hidden_error * hidden_outputs * (1 - hidden_outputs)\n",
    "        \n",
    "        delta_weights_i_h += hidden_erro_term * X[:, None]\n",
    "        \n",
    "        delta_weights_h_o += output_error_term * hidden_outputs[:, None]\n",
    "        \n",
    "        return delta_weights_i_h, delta_weights_h_o\n",
    "        \n",
    "        \n",
    "    def update_weights():\n",
    "        \n",
    "        self.weights_hidden_to_output += self.lr * delta_weights_h_o / n_records # update hidden-to-output weights with gradient descent step\n",
    "        self.weights_input_to_hidden += self.lr * delta_weights_i_h / n_records \n",
    "        \n",
    "        \n",
    "    def run(self, featuures):\n",
    "        \n",
    "        hidden_inputs = np.dot(features, self.w_i_h) # signals into hidden layer\n",
    "        hidden_outputs = self.activation_function(hidden_inputs) # signals from hidden layer\n",
    "        \n",
    "        # TODO: Output layer - Replace these values with the appropriate calculations.\n",
    "        final_inputs = np.dot(hidden_outputs, self.w_h_o) # signals into final output layer\n",
    "        final_outputs = final_inputs # signals from final output layer \n",
    "        \n",
    "        return final_outputs\n",
    "    \n",
    "\n",
    "nn = NN(784, 256, 10, 0.1)\n",
    "out = # output of your network, should have shape (64,10)"
   ]
  },
  {
   "cell_type": "code",
   "execution_count": 9,
   "metadata": {},
   "outputs": [
    {
     "name": "stdout",
     "output_type": "stream",
     "text": [
      "torch.Size([64, 10])\n"
     ]
    }
   ],
   "source": [
    "def activation(x):\n",
    "    return 1 / (1 + torch.exp(-x))\n",
    "\n",
    "# Flatten the image\n",
    "inputs = images.view(images.shape[0], -1)\n",
    "\n",
    "w1 = torch.randn(784, 256)\n",
    "b1 = torch.randn(256)\n",
    "\n",
    "w2 = torch.randn(256, 10)\n",
    "b2 = torch.randn(10)\n",
    "\n",
    "h = activation(torch.mm(inputs, w1) + b1)\n",
    "out = torch.mm(h, w2) + b2\n",
    "\n",
    "print(out.shape)"
   ]
  },
  {
   "cell_type": "code",
   "execution_count": 10,
   "metadata": {},
   "outputs": [
    {
     "data": {
      "text/plain": [
       "tensor([[ 1.9011e+00, -3.2225e+00,  1.3857e+01,  8.1246e+00,  8.7339e+00,\n",
       "         -2.1770e+01, -1.1368e+01, -5.1101e+00,  1.3482e+01,  1.8354e-01],\n",
       "        [ 4.3296e+00, -3.8176e+00,  1.6028e+01,  1.3731e+01,  5.6817e-01,\n",
       "         -2.0903e+01,  2.2433e+00, -7.5930e+00,  5.9803e+00,  1.1442e+01],\n",
       "        [ 3.5952e+00, -4.9771e+00,  1.6934e+01,  5.7749e+00,  1.7528e+00,\n",
       "         -1.7417e+01, -1.0812e+01, -9.1717e+00,  1.4007e+01, -4.5735e+00],\n",
       "        [ 1.0528e+01, -2.7060e+00,  1.6479e+01,  1.1714e+01,  8.1870e+00,\n",
       "         -1.7088e+01, -1.2638e+00, -1.0603e+01,  9.9386e+00,  5.2418e+00],\n",
       "        [ 5.7045e+00, -2.0854e+01,  1.3554e+01, -3.6871e-01,  2.4173e+00,\n",
       "         -2.1133e+01, -1.1078e+01, -9.3240e+00,  1.5273e+01, -4.5183e+00],\n",
       "        [ 1.3455e+01, -6.1093e+00,  2.9041e+01, -2.3239e-01, -3.1953e+00,\n",
       "         -2.1120e+01, -1.3204e+01, -4.1847e+00,  7.4466e+00, -6.0039e+00],\n",
       "        [ 8.0697e+00, -1.2401e+01,  2.0750e+01,  8.4411e+00,  7.4029e+00,\n",
       "         -1.3363e+01, -8.7919e+00,  1.1736e+00,  8.5769e+00,  3.8430e+00],\n",
       "        [ 3.8074e+00, -1.9136e+01,  1.4105e+01,  2.8235e+00,  1.0296e+01,\n",
       "         -1.5223e+01, -4.8953e+00, -8.0418e+00,  1.3963e+01, -8.3170e+00],\n",
       "        [ 5.0314e+00, -1.6668e+00,  2.5985e+01,  8.5477e+00,  1.0377e+01,\n",
       "         -1.1613e+01, -8.9264e+00, -1.1504e+01,  4.1461e-01, -6.0823e+00],\n",
       "        [ 9.7081e+00, -7.4476e+00,  7.7326e+00,  4.8855e+00,  1.5280e+01,\n",
       "         -2.1566e+01, -1.0617e+01, -1.9296e+00,  5.1915e+00,  2.7383e-01],\n",
       "        [ 5.5540e+00, -6.8342e+00,  5.7604e+00,  9.3986e+00,  1.2997e+01,\n",
       "         -2.1863e+01, -8.7744e+00, -2.1299e+00,  1.2802e+01, -6.4513e+00],\n",
       "        [ 1.6467e+00, -8.3377e+00,  2.1914e+01,  1.0173e+01,  9.4974e+00,\n",
       "         -1.9903e+01, -1.3033e+00, -1.0957e+01,  4.6892e+00, -1.1036e+00],\n",
       "        [-5.5925e+00, -1.7809e+01,  2.4020e+01,  1.6818e+01,  4.9436e+00,\n",
       "         -1.2941e+01,  4.1091e+00, -4.4469e+00,  6.6817e+00, -9.2799e+00],\n",
       "        [ 6.7515e+00, -1.6390e+01,  1.3269e+01,  2.8172e+00, -3.2954e+00,\n",
       "         -1.8344e+01, -2.2730e+00, -8.8665e+00,  1.7835e+00, -4.5003e+00],\n",
       "        [ 1.9081e+00, -6.3632e+00,  1.1787e+01,  9.2855e+00,  7.6784e+00,\n",
       "         -1.1498e+01, -2.9881e+00, -2.6020e-01,  4.1241e+00, -1.9733e+00],\n",
       "        [ 5.6861e+00, -1.8204e+01,  1.2971e+01,  5.2562e+00,  3.7932e+00,\n",
       "         -2.0066e+01, -8.3474e+00, -7.4313e+00,  1.1322e+01,  4.2279e+00],\n",
       "        [ 3.5785e+00, -3.8171e+00,  1.9876e+01,  1.1535e+01, -3.1737e+00,\n",
       "         -1.8369e+01, -7.8762e-01, -9.4585e+00,  1.3188e+01,  2.2226e+00],\n",
       "        [ 7.2796e+00, -1.3230e+01,  2.1531e+01,  1.3254e+01,  8.0215e+00,\n",
       "         -1.3487e+01, -1.5449e+01, -1.1716e+01,  1.8905e+01, -4.2335e+00],\n",
       "        [ 4.8074e+00, -1.0554e+01,  1.3627e+01,  6.5829e+00,  2.6018e+00,\n",
       "         -1.9049e+01,  1.8195e+00, -3.7484e+00,  9.8510e+00,  1.0335e+00],\n",
       "        [ 7.4059e+00, -2.0718e+01,  3.1216e+01,  5.6283e+00,  6.8874e+00,\n",
       "         -4.1547e+00, -1.1838e+01, -2.3775e+00,  1.1217e+00, -4.8168e+00],\n",
       "        [ 1.0621e+01,  2.0425e+00,  1.5659e+01,  7.5469e+00,  1.3092e+01,\n",
       "         -2.2965e+01, -9.2689e+00, -7.1760e+00,  9.0518e+00, -1.5986e+00],\n",
       "        [ 3.5726e+00, -1.0735e+01,  9.4321e+00,  1.7286e+01,  1.9416e+00,\n",
       "         -1.3659e+01, -3.7890e+00, -4.8680e+00,  2.4369e+00,  9.3299e-02],\n",
       "        [ 9.7227e+00, -1.1619e+01,  1.6041e+01,  9.1668e+00,  1.5149e+01,\n",
       "         -8.1236e+00, -9.5770e+00, -3.1508e+00,  1.4116e+01,  5.8456e+00],\n",
       "        [ 2.7162e+00,  6.6468e-01,  1.6176e+01,  1.0172e+01,  2.3658e+00,\n",
       "         -1.7290e+01,  5.2193e+00, -1.3301e+01,  7.7537e+00, -1.4545e+00],\n",
       "        [ 7.8022e+00, -1.9110e+01,  1.8522e+01,  4.8197e+00,  1.6929e+01,\n",
       "         -2.0118e+01, -8.7346e+00, -7.7825e+00,  1.0889e+01, -5.5621e+00],\n",
       "        [ 4.0436e+00, -6.4901e+00,  2.4308e+01,  4.5569e+00,  8.9550e+00,\n",
       "         -1.5882e+01, -8.8831e+00, -3.6133e+00,  7.4876e+00, -2.9610e+00],\n",
       "        [-1.4616e+00, -6.6350e+00,  1.2988e+01,  6.5693e+00,  1.0250e+01,\n",
       "         -1.8532e+01,  1.2969e+00, -3.1910e+00,  1.8305e+00, -4.2266e+00],\n",
       "        [ 8.4660e+00, -8.5527e+00,  6.6507e+00,  7.8220e+00,  6.0672e+00,\n",
       "         -2.2182e+01, -6.2865e+00, -3.2249e+00,  9.7277e+00,  3.8509e+00],\n",
       "        [-2.2761e+00, -9.5866e+00,  1.1311e+01,  4.3558e+00,  1.4291e+01,\n",
       "         -1.5048e+01,  6.4671e-01, -9.2638e+00,  2.4371e+00, -9.9844e+00],\n",
       "        [ 1.1555e+00, -1.7809e+01,  2.2801e+01,  1.0234e+01,  1.2704e+01,\n",
       "         -1.0982e+01,  8.6681e-01, -2.9778e+00,  3.3820e+00, -5.5813e+00],\n",
       "        [ 3.6309e+00, -1.3899e+00,  1.1647e+01,  8.1514e+00, -2.2246e+00,\n",
       "         -1.8078e+01,  2.4903e+00, -1.1760e+01,  6.4574e+00,  1.1593e-01],\n",
       "        [ 7.6886e+00, -4.6371e+00,  2.0119e+01,  8.4531e+00,  1.5166e+00,\n",
       "         -1.6180e+01, -4.9825e-01, -1.0390e+01, -8.9366e-01,  7.8305e+00],\n",
       "        [ 3.3535e+00, -2.0665e+00,  2.4877e+01,  1.2589e+01,  2.6589e+00,\n",
       "         -2.0598e+01,  9.3126e-01, -6.2256e+00,  1.0861e+01,  8.1160e-01],\n",
       "        [ 3.8761e+00, -1.2125e+01,  2.8353e+01,  5.6193e+00,  7.3376e+00,\n",
       "         -1.4292e+01, -1.4943e+01,  1.3227e+00,  6.9460e+00, -2.6863e+00],\n",
       "        [ 5.1443e+00, -1.6679e+01,  2.7656e+01,  6.0521e+00,  1.0134e+01,\n",
       "         -1.4351e+01, -1.0247e+01,  3.1168e+00,  7.1146e+00, -1.1170e+01],\n",
       "        [ 1.5680e+01, -5.0092e+00,  1.4016e+01,  5.7598e+00,  1.1507e+00,\n",
       "         -2.5677e+01, -9.1776e+00, -7.0232e+00,  1.3148e+01, -1.9600e+00],\n",
       "        [-1.5845e+00, -2.6701e+00,  8.1049e+00,  5.2559e+00,  6.4685e+00,\n",
       "         -1.7588e+01, -5.7160e-01,  2.8816e-01,  1.0904e+01, -3.2080e+00],\n",
       "        [ 3.0407e+00, -1.3874e+01,  2.5789e+01,  5.6260e+00,  6.8281e+00,\n",
       "         -1.6396e+01, -8.8928e+00, -4.7287e+00,  1.0454e+00, -7.9787e+00],\n",
       "        [ 1.8585e+00, -1.6382e+01,  1.7807e+01,  1.2251e+01,  1.2101e+01,\n",
       "         -2.1420e+01,  6.8834e+00,  3.6929e+00,  2.3606e+00, -7.6036e+00],\n",
       "        [ 1.2481e+01,  6.3453e-01,  1.7959e+01,  6.3883e+00,  1.3723e+01,\n",
       "         -1.7823e+01, -4.6283e+00, -1.4598e+01,  1.1698e+01, -2.5123e+00],\n",
       "        [ 6.4504e+00, -8.2381e+00,  2.2824e+01,  8.7270e+00,  1.5974e+01,\n",
       "         -1.2781e+01, -7.3645e+00, -5.0074e+00,  9.2996e+00, -3.0216e+00],\n",
       "        [ 1.2007e+01, -1.3521e+01,  1.2287e+01,  7.1082e+00,  1.7554e+01,\n",
       "         -1.8956e+01, -7.4842e+00, -5.0712e+00,  1.3644e+01, -4.9361e+00],\n",
       "        [ 1.4750e+00, -9.8423e+00,  1.9588e+01,  4.9127e+00,  7.4257e+00,\n",
       "         -2.2341e+01, -1.2131e+00, -5.5260e+00,  4.3488e+00,  3.8997e-01],\n",
       "        [ 5.5140e+00,  7.0985e+00,  1.5426e+01,  1.4305e+00,  1.0671e+01,\n",
       "         -1.9913e+01, -7.4470e+00,  4.2136e+00,  9.2304e+00, -2.7870e+00],\n",
       "        [ 4.0327e+00, -1.1841e+01,  2.3717e+01,  1.1184e+01,  6.5248e+00,\n",
       "         -8.5312e+00, -1.0741e+01, -2.0233e+00,  1.5244e+01, -5.8393e+00],\n",
       "        [ 3.7223e+00, -1.1480e+01,  1.8266e+01,  3.3664e+00,  1.2203e+01,\n",
       "         -1.2773e+01, -1.0059e+01, -3.1075e+00,  7.8491e+00, -1.5009e+00],\n",
       "        [ 1.1486e+01, -9.6840e+00,  1.7576e+01,  7.4984e+00, -3.0180e+00,\n",
       "         -1.5827e+01, -2.7040e-01, -7.2456e+00,  1.7207e+01,  1.0196e+00],\n",
       "        [ 1.3752e+01, -4.0247e+00,  1.0439e+01,  8.6858e+00,  8.3492e+00,\n",
       "         -2.2246e+01, -7.0625e+00, -1.4955e+00,  1.3570e+01,  1.9191e+00],\n",
       "        [ 1.7239e+01, -6.6902e+00,  2.3966e+01,  9.2003e+00,  1.6435e+01,\n",
       "         -2.2584e+01, -5.8531e+00, -5.9867e+00,  7.9325e+00, -2.4852e+00],\n",
       "        [ 2.8455e+00,  4.1808e-01,  8.9437e+00,  9.9955e+00,  9.9747e+00,\n",
       "         -1.4218e+01, -7.4624e+00, -5.1507e+00,  1.1830e+01, -3.4824e+00],\n",
       "        [ 6.8190e+00, -9.9070e+00,  9.9615e+00,  1.1135e+01,  1.7409e+00,\n",
       "         -1.7883e+01, -1.0211e+01, -3.8364e+00,  9.0863e+00,  1.1540e-01],\n",
       "        [ 4.8510e+00, -3.3048e+00,  1.4346e+01,  9.5518e+00,  4.5230e+00,\n",
       "         -1.1203e+01, -1.5863e+01, -5.5343e+00,  1.6399e+01,  3.0967e+00],\n",
       "        [ 2.6042e+00,  4.8912e-02,  2.2995e+01,  1.4240e+01, -1.3573e+00,\n",
       "         -2.0324e+01, -8.8008e+00, -5.4591e+00,  1.4824e+01, -2.8348e+00],\n",
       "        [ 4.7822e+00, -1.1517e+01,  1.6346e+01,  2.0217e+01,  7.1491e+00,\n",
       "         -1.5627e+01, -1.6852e+01,  1.2984e+00,  9.2795e+00, -4.0208e+00],\n",
       "        [ 3.3828e+00, -1.5790e+00,  1.5097e+01,  3.4887e+00,  1.7933e+01,\n",
       "         -1.9652e+01, -7.5936e+00, -1.0292e+01,  2.0917e+01, -1.4941e+00],\n",
       "        [ 6.3691e+00, -1.6228e+01,  1.7544e+01,  3.5661e+00,  1.4656e+01,\n",
       "         -2.7864e+01, -4.2519e+00, -7.7021e+00,  1.9139e+01, -2.9079e+00],\n",
       "        [ 1.0771e+00, -7.9914e+00,  1.0767e+01,  4.9523e+00,  1.7872e+01,\n",
       "         -1.5574e+01, -7.8670e+00, -6.6501e+00,  1.1301e+01, -3.4243e+00],\n",
       "        [ 4.7475e+00, -1.1626e+01,  1.1583e+01,  4.3722e+00,  1.3470e+01,\n",
       "         -1.8783e+01, -1.0423e+01, -1.2881e-02,  1.3357e+01, -4.9532e+00],\n",
       "        [ 2.8718e+00,  1.2062e+00,  2.1897e+01,  1.4908e+01,  1.9781e+01,\n",
       "         -1.0772e+01, -2.6691e+00, -6.8541e+00,  5.5927e+00, -1.7968e+00],\n",
       "        [ 4.6366e+00, -2.6599e+00,  1.9632e+01,  5.8158e+00,  1.4617e+01,\n",
       "         -1.9105e+01, -3.6102e+00, -1.3934e+01,  1.8838e+01, -2.2821e+00],\n",
       "        [ 2.1199e+01, -3.4830e+00,  1.0174e+01,  4.2384e+00,  1.7384e+00,\n",
       "         -2.6241e+01, -9.2355e+00,  1.5713e+00,  3.6469e+00,  6.3644e-01],\n",
       "        [ 4.0165e+00, -1.3572e+00,  2.0696e+01,  1.0821e+01,  1.2630e+01,\n",
       "         -1.1060e+01, -1.4749e+01, -5.8049e+00,  1.9488e+01,  1.8687e+00],\n",
       "        [ 4.1825e+00, -1.0640e+01,  2.0702e+01,  7.3430e-01,  7.1993e+00,\n",
       "         -1.0991e+01, -9.9973e+00, -1.3431e+01,  8.6595e-01, -3.9283e+00],\n",
       "        [ 8.4371e+00, -7.4115e+00,  1.0652e+01,  5.8092e+00,  1.6764e+01,\n",
       "         -2.1171e+01, -1.1033e+01, -1.0626e+00,  2.0192e+01, -1.3691e+00]])"
      ]
     },
     "execution_count": 10,
     "metadata": {},
     "output_type": "execute_result"
    }
   ],
   "source": [
    "out"
   ]
  },
  {
   "cell_type": "markdown",
   "metadata": {},
   "source": [
    "Now we have 10 outputs for our network. We want to pass in an image to our network and get out a probability distribution over the classes that tells us the likely class(es) the image belongs to. Something that looks like this:\n",
    "<img src='assets/image_distribution.png' width=500px>\n",
    "\n",
    "Here we see that the probability for each class is roughly the same. This is representing an untrained network, it hasn't seen any data yet so it just returns a uniform distribution with equal probabilities for each class.\n",
    "\n",
    "To calculate this probability distribution, we often use the [**softmax** function](https://en.wikipedia.org/wiki/Softmax_function). Mathematically this looks like\n",
    "\n",
    "$$\n",
    "\\Large \\sigma(x_i) = \\cfrac{e^{x_i}}{\\sum_k^K{e^{x_k}}}\n",
    "$$\n",
    "\n",
    "What this does is squish each input $x_i$ between 0 and 1 and normalizes the values to give you a proper probability distribution where the probabilites sum up to one.\n",
    "\n",
    "> **Exercise:** Implement a function `softmax` that performs the softmax calculation and returns probability distributions for each example in the batch. Note that you'll need to pay attention to the shapes when doing this. If you have a tensor `a` with shape `(64, 10)` and a tensor `b` with shape `(64,)`, doing `a/b` will give you an error because PyTorch will try to do the division across the columns (called broadcasting) but you'll get a size mismatch. The way to think about this is for each of the 64 examples, you only want to divide by one value, the sum in the denominator. So you need `b` to have a shape of `(64, 1)`. This way PyTorch will divide the 10 values in each row of `a` by the one value in each row of `b`. Pay attention to how you take the sum as well. You'll need to define the `dim` keyword in `torch.sum`. Setting `dim=0` takes the sum across the rows while `dim=1` takes the sum across the columns."
   ]
  },
  {
   "cell_type": "code",
   "execution_count": 17,
   "metadata": {
    "tags": []
   },
   "outputs": [
    {
     "name": "stdout",
     "output_type": "stream",
     "text": [
      "torch.Size([64, 10])\n",
      "tensor([1.0000, 1.0000, 1.0000, 1.0000, 1.0000, 1.0000, 1.0000, 1.0000, 1.0000,\n",
      "        1.0000, 1.0000, 1.0000, 1.0000, 1.0000, 1.0000, 1.0000, 1.0000, 1.0000,\n",
      "        1.0000, 1.0000, 1.0000, 1.0000, 1.0000, 1.0000, 1.0000, 1.0000, 1.0000,\n",
      "        1.0000, 1.0000, 1.0000, 1.0000, 1.0000, 1.0000, 1.0000, 1.0000, 1.0000,\n",
      "        1.0000, 1.0000, 1.0000, 1.0000, 1.0000, 1.0000, 1.0000, 1.0000, 1.0000,\n",
      "        1.0000, 1.0000, 1.0000, 1.0000, 1.0000, 1.0000, 1.0000, 1.0000, 1.0000,\n",
      "        1.0000, 1.0000, 1.0000, 1.0000, 1.0000, 1.0000, 1.0000, 1.0000, 1.0000,\n",
      "        1.0000])\n"
     ]
    }
   ],
   "source": [
    "def softmax(x):\n",
    "    return torch.exp(x) / torch.sum(torch.exp(out), dim=1).view(-1,1)\n",
    "\n",
    "# Here, out should be the output of the network in the previous excercise with shape (64,10)\n",
    "probabilities = softmax(out)\n",
    "\n",
    "# Does it have the right shape? Should be (64, 10)\n",
    "print(probabilities.shape)\n",
    "# Does it sum to 1?\n",
    "print(probabilities.sum(dim=1))"
   ]
  },
  {
   "cell_type": "markdown",
   "metadata": {},
   "source": [
    "## Building networks with PyTorch\n",
    "\n",
    "PyTorch provides a module `nn` that makes building networks much simpler. Here I'll show you how to build the same one as above with 784 inputs, 256 hidden units, 10 output units and a softmax output."
   ]
  },
  {
   "cell_type": "code",
   "execution_count": 18,
   "metadata": {
    "tags": []
   },
   "outputs": [],
   "source": [
    "from torch import nn"
   ]
  },
  {
   "cell_type": "code",
   "execution_count": 19,
   "metadata": {
    "tags": []
   },
   "outputs": [],
   "source": [
    "class Network(nn.Module):\n",
    "    def __init__(self):\n",
    "        super().__init__()\n",
    "        \n",
    "        # Inputs to hidden layer linear transformation\n",
    "        self.hidden = nn.Linear(784, 256)\n",
    "        # Output layer, 10 units - one for each digit\n",
    "        self.output = nn.Linear(256, 10)\n",
    "        \n",
    "        # Define sigmoid activation and softmax output \n",
    "        self.sigmoid = nn.Sigmoid()\n",
    "        self.softmax = nn.Softmax(dim=1)\n",
    "        \n",
    "    def forward(self, x):\n",
    "        # Pass the input tensor through each of our operations\n",
    "        x = self.hidden(x)\n",
    "        x = self.sigmoid(x)\n",
    "        x = self.output(x)\n",
    "        x = self.softmax(x)\n",
    "        \n",
    "        return x"
   ]
  },
  {
   "cell_type": "markdown",
   "metadata": {},
   "source": [
    "Let's go through this bit by bit.\n",
    "\n",
    "```python\n",
    "class Network(nn.Module):\n",
    "```\n",
    "\n",
    "Here we're inheriting from `nn.Module`. Combined with `super().__init__()` this creates a class that tracks the architecture and provides a lot of useful methods and attributes. It is mandatory to inherit from `nn.Module` when you're creating a class for your network. The name of the class itself can be anything.\n",
    "\n",
    "```python\n",
    "self.hidden = nn.Linear(784, 256)\n",
    "```\n",
    "\n",
    "This line creates a module for a linear transformation, $x\\mathbf{W} + b$, with 784 inputs and 256 outputs and assigns it to `self.hidden`. The module automatically creates the weight and bias tensors which we'll use in the `forward` method. You can access the weight and bias tensors once the network (`net`) is created with `net.hidden.weight` and `net.hidden.bias`.\n",
    "\n",
    "```python\n",
    "self.output = nn.Linear(256, 10)\n",
    "```\n",
    "\n",
    "Similarly, this creates another linear transformation with 256 inputs and 10 outputs.\n",
    "\n",
    "```python\n",
    "self.sigmoid = nn.Sigmoid()\n",
    "self.softmax = nn.Softmax(dim=1)\n",
    "```\n",
    "\n",
    "Here I defined operations for the sigmoid activation and softmax output. Setting `dim=1` in `nn.Softmax(dim=1)` calculates softmax across the columns.\n",
    "\n",
    "```python\n",
    "def forward(self, x):\n",
    "```\n",
    "\n",
    "PyTorch networks created with `nn.Module` must have a `forward` method defined. It takes in a tensor `x` and passes it through the operations you defined in the `__init__` method.\n",
    "\n",
    "```python\n",
    "x = self.hidden(x)\n",
    "x = self.sigmoid(x)\n",
    "x = self.output(x)\n",
    "x = self.softmax(x)\n",
    "```\n",
    "\n",
    "Here the input tensor `x` is passed through each operation and reassigned to `x`. We can see that the input tensor goes through the hidden layer, then a sigmoid function, then the output layer, and finally the softmax function. It doesn't matter what you name the variables here, as long as the inputs and outputs of the operations match the network architecture you want to build. The order in which you define things in the `__init__` method doesn't matter, but you'll need to sequence the operations correctly in the `forward` method.\n",
    "\n",
    "Now we can create a `Network` object."
   ]
  },
  {
   "cell_type": "code",
   "execution_count": 20,
   "metadata": {
    "tags": []
   },
   "outputs": [
    {
     "data": {
      "text/plain": [
       "Network(\n",
       "  (hidden): Linear(in_features=784, out_features=256, bias=True)\n",
       "  (output): Linear(in_features=256, out_features=10, bias=True)\n",
       "  (sigmoid): Sigmoid()\n",
       "  (softmax): Softmax(dim=1)\n",
       ")"
      ]
     },
     "execution_count": 20,
     "metadata": {},
     "output_type": "execute_result"
    }
   ],
   "source": [
    "# Create the network and look at it's text representation\n",
    "model = Network()\n",
    "model"
   ]
  },
  {
   "cell_type": "markdown",
   "metadata": {},
   "source": [
    "You can define the network somewhat more concisely and clearly using the `torch.nn.functional` module. This is the most common way you'll see networks defined as many operations are simple element-wise functions. We normally import this module as `F`, `import torch.nn.functional as F`."
   ]
  },
  {
   "cell_type": "code",
   "execution_count": 21,
   "metadata": {
    "tags": []
   },
   "outputs": [],
   "source": [
    "import torch.nn.functional as F\n",
    "\n",
    "class Network(nn.Module):\n",
    "    def __init__(self):\n",
    "        super().__init__()\n",
    "        # Inputs to hidden layer linear transformation\n",
    "        self.hidden = nn.Linear(784, 256)\n",
    "        # Output layer, 10 units - one for each digit\n",
    "        self.output = nn.Linear(256, 10)\n",
    "        \n",
    "    def forward(self, x):\n",
    "        # Hidden layer with sigmoid activation\n",
    "        x = F.sigmoid(self.hidden(x))\n",
    "        # Output layer with softmax activation\n",
    "        x = F.softmax(self.output(x), dim=1)\n",
    "        \n",
    "        return x"
   ]
  },
  {
   "cell_type": "markdown",
   "metadata": {},
   "source": [
    "### Activation functions\n",
    "\n",
    "So far we've only been looking at the sigmoid activation function, but in general any function can be used as an activation function. The only requirement is that for a network to approximate a non-linear function, the activation functions must be non-linear. Here are a few more examples of common activation functions: Tanh (hyperbolic tangent), and ReLU (rectified linear unit).\n",
    "\n",
    "<img src=\"assets/activation.png\" width=700px>\n",
    "\n",
    "In practice, the ReLU function is used almost exclusively as the activation function for hidden layers."
   ]
  },
  {
   "cell_type": "markdown",
   "metadata": {},
   "source": [
    "### Your Turn to Build a Network\n",
    "\n",
    "<img src=\"assets/mlp_mnist.png\" width=600px>\n",
    "\n",
    "> **Exercise:** Create a network with 784 input units, a hidden layer with 128 units and a ReLU activation, then a hidden layer with 64 units and a ReLU activation, and finally an output layer with a softmax activation as shown above. You can use a ReLU activation with the `nn.ReLU` module or `F.relu` function.\n",
    "\n",
    "It's good practice to name your layers by their type of network, for instance 'fc' to represent a fully-connected layer. As you code your solution, use `fc1`, `fc2`, and `fc3` as your layer names."
   ]
  },
  {
   "cell_type": "code",
   "execution_count": 29,
   "metadata": {
    "scrolled": true,
    "tags": []
   },
   "outputs": [],
   "source": [
    "## Your solution here\n",
    "class NN(nn.Module):\n",
    "    \n",
    "    def __init__(self):\n",
    "        super().__init__()\n",
    "\n",
    "        self.fc1 = nn.Linear(784, 128)\n",
    "        self.fc2 = nn.Linear(128, 64)\n",
    "\n",
    "        self.fc3 = nn.Linear(64, 10)\n",
    "\n",
    "    def forward(self, x):\n",
    "        x = F.relu(self.fc1(x))\n",
    "        x = F.relu(self.fc2(x))\n",
    "        # Output layer with softmax activation\n",
    "        x = F.softmax(self.fc3(x), dim=1)\n",
    "        \n",
    "        return x\n",
    "        \n",
    "model = NN()"
   ]
  },
  {
   "cell_type": "markdown",
   "metadata": {},
   "source": [
    "### Initializing weights and biases\n",
    "\n",
    "The weights and such are automatically initialized for you, but it's possible to customize how they are initialized. The weights and biases are tensors attached to the layer you defined, you can get them with `model.fc1.weight` for instance."
   ]
  },
  {
   "cell_type": "code",
   "execution_count": 30,
   "metadata": {
    "tags": []
   },
   "outputs": [
    {
     "name": "stdout",
     "output_type": "stream",
     "text": [
      "Parameter containing:\n",
      "tensor([[ 0.0333,  0.0243, -0.0175,  ...,  0.0092,  0.0009, -0.0176],\n",
      "        [ 0.0152, -0.0132,  0.0324,  ...,  0.0340,  0.0068, -0.0059],\n",
      "        [ 0.0194,  0.0258,  0.0272,  ..., -0.0315, -0.0164,  0.0086],\n",
      "        ...,\n",
      "        [-0.0207, -0.0041,  0.0191,  ...,  0.0024,  0.0284,  0.0007],\n",
      "        [ 0.0029, -0.0296,  0.0212,  ...,  0.0185,  0.0084, -0.0152],\n",
      "        [-0.0229,  0.0340, -0.0070,  ...,  0.0030,  0.0068, -0.0357]],\n",
      "       requires_grad=True)\n",
      "Parameter containing:\n",
      "tensor([ 2.7593e-02, -2.8460e-02, -2.2302e-02, -3.2995e-02, -3.2785e-02,\n",
      "         1.1635e-02,  5.7731e-03,  3.3147e-02, -1.4360e-02,  3.0967e-02,\n",
      "        -2.0703e-02,  2.6598e-02,  3.2141e-02, -4.4743e-03,  1.6715e-03,\n",
      "         1.6660e-02, -2.9685e-02,  1.3442e-02, -1.1131e-02,  1.4980e-02,\n",
      "        -3.2728e-02, -1.4008e-02,  8.7025e-03, -1.1635e-02, -2.8886e-02,\n",
      "        -3.2422e-02,  2.7963e-02, -2.4670e-02, -1.8915e-02,  1.8307e-02,\n",
      "        -2.9478e-02, -1.1050e-02, -4.1527e-03,  2.5404e-02, -1.1221e-03,\n",
      "        -2.1755e-03, -1.0643e-03,  2.4785e-03,  1.4281e-02,  3.0566e-03,\n",
      "         1.1256e-02, -6.9153e-03, -2.1580e-02, -1.7770e-02,  2.6574e-02,\n",
      "        -5.0679e-03, -3.3078e-02,  3.0285e-02,  2.1462e-02,  3.0480e-02,\n",
      "        -7.0197e-03, -8.0926e-03,  3.7674e-03,  1.1545e-02,  8.9561e-03,\n",
      "         8.3577e-03, -2.8416e-02,  9.2565e-03,  2.5474e-02, -3.3148e-02,\n",
      "        -1.5938e-02,  1.1869e-02, -3.1499e-02, -7.4992e-03, -1.2326e-02,\n",
      "        -2.5018e-02, -3.2673e-02, -1.5418e-02,  1.3041e-02,  1.0282e-02,\n",
      "        -1.0305e-02,  1.3533e-02, -1.4107e-02,  2.2797e-04, -3.0729e-02,\n",
      "        -1.5800e-02,  1.0966e-02,  8.8585e-03, -8.7452e-03, -2.9429e-02,\n",
      "         2.5410e-02,  2.0527e-02, -1.2228e-02, -1.2095e-02,  3.5653e-02,\n",
      "         8.8918e-03, -3.4456e-02,  3.0423e-02, -1.2171e-02,  1.0272e-02,\n",
      "         3.1433e-02,  1.1787e-02,  3.4761e-02,  6.6022e-03,  1.6381e-02,\n",
      "        -7.3882e-03, -1.0305e-02, -3.9475e-05, -3.4420e-02, -3.1567e-02,\n",
      "         3.2647e-02,  1.3613e-03, -1.4316e-02, -1.2068e-02, -7.6718e-03,\n",
      "         3.5464e-02, -1.7700e-02,  2.0539e-02, -6.4253e-03, -3.3468e-02,\n",
      "        -2.7593e-02,  1.2440e-02, -1.0141e-02, -4.9130e-03, -1.9934e-02,\n",
      "        -4.0753e-03,  9.2453e-03, -3.3494e-02,  1.1371e-04, -1.2806e-03,\n",
      "         3.4490e-02, -3.2643e-03,  1.0245e-02,  1.4833e-02, -6.0035e-03,\n",
      "        -1.5143e-02,  3.5149e-02, -2.7306e-02], requires_grad=True)\n"
     ]
    }
   ],
   "source": [
    "print(model.fc1.weight)\n",
    "print(model.fc1.bias)"
   ]
  },
  {
   "cell_type": "markdown",
   "metadata": {},
   "source": [
    "For custom initialization, we want to modify these tensors in place. These are actually autograd *Variables*, so we need to get back the actual tensors with `model.fc1.weight.data`. Once we have the tensors, we can fill them with zeros (for biases) or random normal values."
   ]
  },
  {
   "cell_type": "code",
   "execution_count": 31,
   "metadata": {
    "tags": []
   },
   "outputs": [
    {
     "data": {
      "text/plain": [
       "tensor([0., 0., 0., 0., 0., 0., 0., 0., 0., 0., 0., 0., 0., 0., 0., 0., 0., 0., 0., 0., 0., 0., 0., 0.,\n",
       "        0., 0., 0., 0., 0., 0., 0., 0., 0., 0., 0., 0., 0., 0., 0., 0., 0., 0., 0., 0., 0., 0., 0., 0.,\n",
       "        0., 0., 0., 0., 0., 0., 0., 0., 0., 0., 0., 0., 0., 0., 0., 0., 0., 0., 0., 0., 0., 0., 0., 0.,\n",
       "        0., 0., 0., 0., 0., 0., 0., 0., 0., 0., 0., 0., 0., 0., 0., 0., 0., 0., 0., 0., 0., 0., 0., 0.,\n",
       "        0., 0., 0., 0., 0., 0., 0., 0., 0., 0., 0., 0., 0., 0., 0., 0., 0., 0., 0., 0., 0., 0., 0., 0.,\n",
       "        0., 0., 0., 0., 0., 0., 0., 0.])"
      ]
     },
     "execution_count": 31,
     "metadata": {},
     "output_type": "execute_result"
    }
   ],
   "source": [
    "# Set biases to all zeros\n",
    "model.fc1.bias.data.fill_(0)"
   ]
  },
  {
   "cell_type": "code",
   "execution_count": 32,
   "metadata": {
    "tags": []
   },
   "outputs": [
    {
     "data": {
      "text/plain": [
       "tensor([[ 0.0029,  0.0001, -0.0037,  ...,  0.0192,  0.0010, -0.0073],\n",
       "        [ 0.0011,  0.0138, -0.0102,  ..., -0.0038, -0.0336, -0.0081],\n",
       "        [-0.0006,  0.0148,  0.0119,  ..., -0.0089, -0.0179, -0.0002],\n",
       "        ...,\n",
       "        [-0.0133,  0.0109, -0.0140,  ..., -0.0104, -0.0023, -0.0092],\n",
       "        [ 0.0019, -0.0103, -0.0155,  ...,  0.0034, -0.0183,  0.0107],\n",
       "        [ 0.0066, -0.0133,  0.0062,  ..., -0.0055, -0.0199, -0.0087]])"
      ]
     },
     "execution_count": 32,
     "metadata": {},
     "output_type": "execute_result"
    }
   ],
   "source": [
    "# sample from random normal with standard dev = 0.01\n",
    "model.fc1.weight.data.normal_(std=0.01)"
   ]
  },
  {
   "cell_type": "markdown",
   "metadata": {},
   "source": [
    "### Forward pass\n",
    "\n",
    "Now that we have a network, let's see what happens when we pass in an image."
   ]
  },
  {
   "cell_type": "code",
   "execution_count": 33,
   "metadata": {
    "tags": []
   },
   "outputs": [
    {
     "data": {
      "image/png": "[encoded data removed]",
      "text/plain": [
       "<Figure size 432x648 with 2 Axes>"
      ]
     },
     "metadata": {
      "needs_background": "light"
     },
     "output_type": "display_data"
    }
   ],
   "source": [
    "# Grab some data \n",
    "dataiter = iter(trainloader)\n",
    "images, labels = dataiter.next()\n",
    "\n",
    "# Resize images into a 1D vector, new shape is (batch size, color channels, image pixels) \n",
    "images.resize_(64, 1, 784)\n",
    "# or images.resize_(images.shape[0], 1, 784) to automatically get batch size\n",
    "\n",
    "# Forward pass through the network\n",
    "img_idx = 0\n",
    "ps = model.forward(images[img_idx,:])\n",
    "\n",
    "img = images[img_idx]\n",
    "helper.view_classify(img.view(1, 28, 28), ps)"
   ]
  },
  {
   "cell_type": "markdown",
   "metadata": {},
   "source": [
    "As you can see above, our network has basically no idea what this digit is. It's because we haven't trained it yet, all the weights are random!\n",
    "\n",
    "### Using `nn.Sequential`\n",
    "\n",
    "PyTorch provides a convenient way to build networks like this where a tensor is passed sequentially through operations, `nn.Sequential` ([documentation](https://pytorch.org/docs/master/nn.html#torch.nn.Sequential)). Using this to build the equivalent network:"
   ]
  },
  {
   "cell_type": "code",
   "execution_count": 34,
   "metadata": {
    "tags": []
   },
   "outputs": [
    {
     "name": "stdout",
     "output_type": "stream",
     "text": [
      "Sequential(\n",
      "  (0): Linear(in_features=784, out_features=128, bias=True)\n",
      "  (1): ReLU()\n",
      "  (2): Linear(in_features=128, out_features=64, bias=True)\n",
      "  (3): ReLU()\n",
      "  (4): Linear(in_features=64, out_features=10, bias=True)\n",
      "  (5): Softmax(dim=1)\n",
      ")\n"
     ]
    },
    {
     "data": {
      "image/png": "[encoded data removed]",
      "text/plain": [
       "<Figure size 432x648 with 2 Axes>"
      ]
     },
     "metadata": {
      "needs_background": "light"
     },
     "output_type": "display_data"
    }
   ],
   "source": [
    "# Hyperparameters for our network\n",
    "input_size = 784\n",
    "hidden_sizes = [128, 64]\n",
    "output_size = 10\n",
    "\n",
    "# Build a feed-forward network\n",
    "model = nn.Sequential(nn.Linear(input_size, hidden_sizes[0]),\n",
    "                      nn.ReLU(),\n",
    "                      nn.Linear(hidden_sizes[0], hidden_sizes[1]),\n",
    "                      nn.ReLU(),\n",
    "                      nn.Linear(hidden_sizes[1], output_size),\n",
    "                      nn.Softmax(dim=1))\n",
    "print(model)\n",
    "\n",
    "# Forward pass through the network and display output\n",
    "images, labels = next(iter(trainloader))\n",
    "images.resize_(images.shape[0], 1, 784)\n",
    "ps = model.forward(images[0,:])\n",
    "helper.view_classify(images[0].view(1, 28, 28), ps)"
   ]
  },
  {
   "cell_type": "markdown",
   "metadata": {},
   "source": [
    "Here our model is the same as before: 784 input units, a hidden layer with 128 units, ReLU activation, 64 unit hidden layer, another ReLU, then the output layer with 10 units, and the softmax output.\n",
    "\n",
    "The operations are available by passing in the appropriate index. For example, if you want to get first Linear operation and look at the weights, you'd use `model[0]`."
   ]
  },
  {
   "cell_type": "code",
   "execution_count": 39,
   "metadata": {
    "tags": []
   },
   "outputs": [
    {
     "name": "stdout",
     "output_type": "stream",
     "text": [
      "Linear(in_features=784, out_features=128, bias=True)\n"
     ]
    },
    {
     "data": {
      "text/plain": [
       "Parameter containing:\n",
       "tensor([[ 0.0092, -0.0309, -0.0233,  ...,  0.0026, -0.0027,  0.0217],\n",
       "        [-0.0343,  0.0170,  0.0074,  ..., -0.0175,  0.0210,  0.0169],\n",
       "        [-0.0056, -0.0228, -0.0252,  ...,  0.0145,  0.0326,  0.0333],\n",
       "        ...,\n",
       "        [ 0.0325, -0.0300,  0.0172,  ...,  0.0287,  0.0166,  0.0256],\n",
       "        [ 0.0319,  0.0088, -0.0251,  ...,  0.0309, -0.0011, -0.0203],\n",
       "        [-0.0158, -0.0133,  0.0260,  ...,  0.0027, -0.0165,  0.0022]],\n",
       "       requires_grad=True)"
      ]
     },
     "execution_count": 39,
     "metadata": {},
     "output_type": "execute_result"
    }
   ],
   "source": [
    "print(model[0])\n",
    "model[0].weight"
   ]
  },
  {
   "cell_type": "markdown",
   "metadata": {},
   "source": [
    "You can also pass in an `OrderedDict` to name the individual layers and operations, instead of using incremental integers. Note that dictionary keys must be unique, so _each operation must have a different name_."
   ]
  },
  {
   "cell_type": "code",
   "execution_count": 40,
   "metadata": {
    "tags": []
   },
   "outputs": [
    {
     "data": {
      "text/plain": [
       "Sequential(\n",
       "  (fc1): Linear(in_features=784, out_features=128, bias=True)\n",
       "  (relu1): ReLU()\n",
       "  (fc2): Linear(in_features=128, out_features=64, bias=True)\n",
       "  (relu2): ReLU()\n",
       "  (output): Linear(in_features=64, out_features=10, bias=True)\n",
       "  (softmax): Softmax(dim=1)\n",
       ")"
      ]
     },
     "execution_count": 40,
     "metadata": {},
     "output_type": "execute_result"
    }
   ],
   "source": [
    "from collections import OrderedDict\n",
    "model = nn.Sequential(OrderedDict([\n",
    "                      ('fc1', nn.Linear(input_size, hidden_sizes[0])),\n",
    "                      ('relu1', nn.ReLU()),\n",
    "                      ('fc2', nn.Linear(hidden_sizes[0], hidden_sizes[1])),\n",
    "                      ('relu2', nn.ReLU()),\n",
    "                      ('output', nn.Linear(hidden_sizes[1], output_size)),\n",
    "                      ('softmax', nn.Softmax(dim=1))]))\n",
    "model"
   ]
  },
  {
   "cell_type": "markdown",
   "metadata": {},
   "source": [
    "Now you can access layers either by integer or the name"
   ]
  },
  {
   "cell_type": "code",
   "execution_count": 41,
   "metadata": {
    "tags": []
   },
   "outputs": [
    {
     "name": "stdout",
     "output_type": "stream",
     "text": [
      "Linear(in_features=784, out_features=128, bias=True)\n",
      "Linear(in_features=784, out_features=128, bias=True)\n"
     ]
    }
   ],
   "source": [
    "print(model[0])\n",
    "print(model.fc1)"
   ]
  },
  {
   "cell_type": "markdown",
   "metadata": {},
   "source": [
    "In the next notebook, we'll see how we can train a neural network to accuractly predict the numbers appearing in the MNIST images."
   ]
  }
 ],
 "metadata": {
  "kernelspec": {
   "display_name": "Python 3",
   "language": "python",
   "name": "python3"
  },
  "language_info": {
   "codemirror_mode": {
    "name": "ipython",
    "version": 3
   },
   "file_extension": ".py",
   "mimetype": "text/x-python",
   "name": "python",
   "nbconvert_exporter": "python",
   "pygments_lexer": "ipython3",
   "version": "3.8.10"
  }
 },
 "nbformat": 4,
 "nbformat_minor": 4
}
